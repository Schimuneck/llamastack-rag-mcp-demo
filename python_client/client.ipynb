{
 "cells": [
  {
   "cell_type": "code",
   "execution_count": 1,
   "id": "5cefd5c4",
   "metadata": {},
   "outputs": [],
   "source": [
    "LLAMA_STACK_URL = \"http://localhost:8321\"\n",
    "MCP_URL = \"http://127.0.0.1:8000/mcp\"\n",
    "LLAMA_STACK_MODEL_ID = \"vllm/llama-4-scout-17b-16e-w4a16\"\n",
    "TXT_FILE_PATH = \"../data/calabaceira_history.txt\""
   ]
  },
  {
   "cell_type": "code",
   "execution_count": 2,
   "id": "66438739",
   "metadata": {},
   "outputs": [],
   "source": [
    "from llama_stack_client import LlamaStackClient\n",
    "\n",
    "client = LlamaStackClient(base_url=LLAMA_STACK_URL)"
   ]
  },
  {
   "cell_type": "code",
   "execution_count": 3,
   "id": "028d91c5",
   "metadata": {},
   "outputs": [],
   "source": [
    "def print_response(response):\n",
    "    print(f\"ID: {response.id}\")\n",
    "    print(f\"Status: {response.status}\")\n",
    "    print(f\"Model: {response.model}\")\n",
    "    print(f\"Created at: {response.created_at}\")\n",
    "    print(f\"Output items: {len(response.output)}\")\n",
    "    \n",
    "    for i, output_item in enumerate(response.output):\n",
    "        if len(response.output) > 1:\n",
    "            print(f\"\\n--- Output Item {i+1} ---\")\n",
    "        print(f\"Output type: {output_item.type}\")\n",
    "        \n",
    "        if output_item.type in (\"text\", \"message\"):\n",
    "            print(f\"Response content: {output_item.content[0].text}\")\n",
    "        elif output_item.type == \"file_search_call\":\n",
    "            print(f\"  Tool Call ID: {output_item.id}\")\n",
    "            print(f\"  Tool Status: {output_item.status}\")\n",
    "            # 'queries' is a list, so we join it for clean printing\n",
    "            print(f\"  Queries: {', '.join(output_item.queries)}\")\n",
    "            # Display results if they exist, otherwise note they are empty\n",
    "            print(f\"  Results: {output_item.results if output_item.results else 'None'}\")\n",
    "        elif output_item.type == \"mcp_list_tools\":\n",
    "            print_mcp_list_tools(output_item)\n",
    "        elif output_item.type == \"mcp_call\":\n",
    "            print_mcp_call(output_item)\n",
    "        else:\n",
    "            print(f\"Response content: {output_item.content}\")\n",
    "\n",
    "\n",
    "def print_mcp_call(mcp_call):\n",
    "    \"\"\"Print MCP call in a nicely formatted way\"\"\"\n",
    "    print(f\"\\n🛠️  MCP Tool Call: {mcp_call.name}\")\n",
    "    print(f\"   Server: {mcp_call.server_label}\")\n",
    "    print(f\"   ID: {mcp_call.id}\")\n",
    "    print(f\"   Arguments: {mcp_call.arguments}\")\n",
    "    \n",
    "    if mcp_call.error:\n",
    "        print(\"Error: {mcp_call.error}\")\n",
    "    elif mcp_call.output:\n",
    "        print(\"Output:\")\n",
    "        # Try to format JSON output nicely\n",
    "        try:\n",
    "            import json\n",
    "            parsed_output = json.loads(mcp_call.output)\n",
    "            print(json.dumps(parsed_output, indent=4))\n",
    "        except:\n",
    "            # If not valid JSON, print as-is\n",
    "            print(f\"   {mcp_call.output}\")\n",
    "    else:\n",
    "        print(\"   ⏳ No output yet\")\n",
    "\n",
    "\n",
    "def print_mcp_list_tools(mcp_list_tools):\n",
    "    \"\"\"Print MCP list tools in a nicely formatted way\"\"\"\n",
    "    print(f\"\\n🔧 MCP Server: {mcp_list_tools.server_label}\")\n",
    "    print(f\"   ID: {mcp_list_tools.id}\")\n",
    "    print(f\"   Available Tools: {len(mcp_list_tools.tools)}\")\n",
    "    print(\"=\" * 80)\n",
    "    \n",
    "    for i, tool in enumerate(mcp_list_tools.tools, 1):\n",
    "        print(f\"\\n{i}. {tool.name}\")\n",
    "        print(f\"   Description: {tool.description}\")\n",
    "        \n",
    "        # Parse and display input schema\n",
    "        schema = tool.input_schema\n",
    "        if schema and 'properties' in schema:\n",
    "            properties = schema['properties']\n",
    "            required = schema.get('required', [])\n",
    "            \n",
    "            print(\"   Parameters:\")\n",
    "            for param_name, param_info in properties.items():\n",
    "                param_type = param_info.get('type', 'unknown')\n",
    "                param_desc = param_info.get('description', 'No description')\n",
    "                required_marker = \" (required)\" if param_name in required else \" (optional)\"\n",
    "                print(f\"     • {param_name} ({param_type}){required_marker}\")\n",
    "                if param_desc:\n",
    "                    print(f\"       {param_desc}\")\n",
    "        \n",
    "        if i < len(mcp_list_tools.tools):\n",
    "            print(\"-\" * 40)\n",
    "\n",
    "def print_simple_response(response):\n",
    "    print(f\"ID: {response.id}\")\n",
    "    print(f\"Status: {response.status}\")\n",
    "    print(f\"Model: {response.model}\")\n",
    "    print(f\"Created at: {response.created_at}\")\n",
    "    print(f\"Output type: {response.output[0].type}\")\n",
    "    print(f\"Response content: {response.output[0].content[0].text}\")\n",
    "\n",
    "\n",
    "def print_rag_response(response):\n",
    "    print(f\"ID: {response.id}\")\n",
    "    print(f\"Status: {response.status}\")\n",
    "    print(f\"Model: {response.model}\")\n",
    "    print(f\"Created at: {response.created_at}\")\n",
    "    print(f\"Output items: {len(response.output)}\")\n",
    "    \n",
    "    for i, output_item in enumerate(response.output):\n",
    "        if len(response.output) > 1:\n",
    "            print(f\"\\n--- Output Item {i+1} ---\")\n",
    "        print(f\"Output type: {output_item.type}\")\n",
    "        \n",
    "        if output_item.type in (\"text\", \"message\"):\n",
    "            print(f\"Response content: {output_item.content[0].text}\")\n",
    "        elif output_item.type == \"file_search_call\":\n",
    "            print(f\"  Tool Call ID: {output_item.id}\")\n",
    "            print(f\"  Tool Status: {output_item.status}\")\n",
    "            # 'queries' is a list, so we join it for clean printing\n",
    "            print(f\"  Queries: {', '.join(output_item.queries)}\")\n",
    "            # Display results if they exist, otherwise note they are empty\n",
    "            print(f\"  Results: {output_item.results if output_item.results else 'None'}\")\n",
    "        else:\n",
    "            print(f\"Response content: {output_item.content}\")\n",
    "\n",
    "\n",
    "def extract_response_text(response):\n",
    "    \"\"\"Extract the main response text from a LlamaStack response object.\n",
    "    \n",
    "    Args:\n",
    "        response: ResponseObject from LlamaStack client\n",
    "        \n",
    "    Returns:\n",
    "        str: The extracted response text, or None if not found\n",
    "    \"\"\"\n",
    "    if not response or not response.output:\n",
    "        return None\n",
    "    \n",
    "    # Look for message type output items\n",
    "    for output_item in response.output:\n",
    "        if output_item.type == \"message\" and hasattr(output_item, 'content'):\n",
    "            if output_item.content and len(output_item.content) > 0:\n",
    "                return output_item.content[0].text\n",
    "        elif output_item.type == \"text\" and hasattr(output_item, 'content'):\n",
    "            if output_item.content and len(output_item.content) > 0:\n",
    "                return output_item.content[0].text\n",
    "    \n",
    "    return None\n",
    "\n",
    "\n",
    "def extract_file_search_results(response):\n",
    "    \"\"\"Extract file search results from a RAG response.\n",
    "    \n",
    "    Args:\n",
    "        response: ResponseObject from LlamaStack client\n",
    "        \n",
    "    Returns:\n",
    "        list: List of file search results, or empty list if none found\n",
    "    \"\"\"\n",
    "    if not response or not response.output:\n",
    "        return []\n",
    "    \n",
    "    results = []\n",
    "    for output_item in response.output:\n",
    "        if output_item.type == \"file_search_call\" and hasattr(output_item, 'results'):\n",
    "            if output_item.results:\n",
    "                results.extend(output_item.results)\n",
    "    \n",
    "    return results"
   ]
  },
  {
   "cell_type": "markdown",
   "id": "d78b4724",
   "metadata": {},
   "source": [
    "## Retrieval-Augmented Generation"
   ]
  },
  {
   "cell_type": "markdown",
   "id": "fd4ac563",
   "metadata": {},
   "source": [
    "### Create vector store"
   ]
  },
  {
   "cell_type": "code",
   "execution_count": 4,
   "id": "d8937d50",
   "metadata": {},
   "outputs": [
    {
     "name": "stderr",
     "output_type": "stream",
     "text": [
      "INFO:httpx:HTTP Request: POST http://localhost:8321/v1/openai/v1/vector_stores \"HTTP/1.1 200 OK\"\n"
     ]
    },
    {
     "name": "stdout",
     "output_type": "stream",
     "text": [
      "vs_2d3af801-c65f-4085-8977-d2b2a3253fa1\n"
     ]
    }
   ],
   "source": [
    "import uuid\n",
    "\n",
    "vector_store_name= f\"vec_{str(uuid.uuid4())[0:8]}\"\n",
    "vector_store = client.vector_stores.create(name=vector_store_name, embedding_model=\"all-MiniLM-L6-v2\", embedding_dimension=384)\n",
    "vector_store_id = vector_store.id\n",
    "\n",
    "print(vector_store_id)"
   ]
  },
  {
   "cell_type": "markdown",
   "id": "5016b727",
   "metadata": {},
   "source": [
    "### Prompt 1: What is the Calabaceira Shop address? (empty knowledge base)"
   ]
  },
  {
   "cell_type": "code",
   "execution_count": 5,
   "id": "ea5aec3c",
   "metadata": {},
   "outputs": [
    {
     "name": "stderr",
     "output_type": "stream",
     "text": [
      "INFO:httpx:HTTP Request: POST http://localhost:8321/v1/openai/v1/responses \"HTTP/1.1 200 OK\"\n"
     ]
    },
    {
     "name": "stdout",
     "output_type": "stream",
     "text": [
      "ID: resp-810a695e-9eea-4acb-ba56-221048cc299e\n",
      "Status: completed\n",
      "Model: vllm/llama-4-scout-17b-16e-w4a16\n",
      "Created at: 1756291932\n",
      "Output items: 2\n",
      "\n",
      "--- Output Item 1 ---\n",
      "Output type: file_search_call\n",
      "  Tool Call ID: chatcmpl-tool-25041793e93d4c48816d0cf756d928e0\n",
      "  Tool Status: completed\n",
      "  Queries: Calabaceira Shop address\n",
      "  Results: None\n",
      "\n",
      "--- Output Item 2 ---\n",
      "Output type: message\n",
      "Response content: I apologize for the inconvenience. Unfortunately, I couldn't find the address of Calabaceira Shop in my database. Can you please provide more context or information about the shop, such as its location or city? I'll do my best to help you find the address.\n"
     ]
    }
   ],
   "source": [
    "prompt_1 = \"What is the Calabaceira Shop address?\"\n",
    "\n",
    "response_1 = client.responses.create(\n",
    "    model=LLAMA_STACK_MODEL_ID,\n",
    "    input=prompt_1,\n",
    "     tools=[\n",
    "        {\n",
    "            \"type\": \"file_search\",\n",
    "            \"vector_store_ids\": [vector_store_id],\n",
    "        }\n",
    "    ],\n",
    "    instructions=\"You are a helpful customer service representative for Calabaceira Shop. Always be polite, professional, and provide accurate information about the shop. If you don't know something, admit it honestly\"\n",
    ")\n",
    "\n",
    "\n",
    "print_rag_response(response_1)"
   ]
  },
  {
   "cell_type": "markdown",
   "id": "519e0a41",
   "metadata": {},
   "source": [
    "### Create a file"
   ]
  },
  {
   "cell_type": "code",
   "execution_count": 6,
   "id": "c03c43bb",
   "metadata": {},
   "outputs": [
    {
     "name": "stderr",
     "output_type": "stream",
     "text": [
      "INFO:httpx:HTTP Request: POST http://localhost:8321/v1/openai/v1/files \"HTTP/1.1 200 OK\"\n"
     ]
    },
    {
     "data": {
      "text/plain": [
       "File(id='file-69f81ca1574146b095131c1c7362cf22', bytes=1538, created_at=1756291944, expires_at=1787827944, filename='calabaceira_history.txt', object='file', purpose='assistants')"
      ]
     },
     "execution_count": 6,
     "metadata": {},
     "output_type": "execute_result"
    }
   ],
   "source": [
    "from pathlib import Path\n",
    "file_create_response = client.files.create(file=Path(TXT_FILE_PATH), purpose=\"assistants\")\n",
    "file_create_response"
   ]
  },
  {
   "cell_type": "markdown",
   "id": "4e7475fd",
   "metadata": {},
   "source": [
    "### Ingest file in vector store"
   ]
  },
  {
   "cell_type": "code",
   "execution_count": 7,
   "id": "1a1c2adc",
   "metadata": {},
   "outputs": [
    {
     "name": "stderr",
     "output_type": "stream",
     "text": [
      "INFO:httpx:HTTP Request: POST http://localhost:8321/v1/openai/v1/vector_stores/vs_2d3af801-c65f-4085-8977-d2b2a3253fa1/files \"HTTP/1.1 200 OK\"\n"
     ]
    },
    {
     "data": {
      "text/plain": [
       "VectorStoreFile(id='file-69f81ca1574146b095131c1c7362cf22', attributes={}, chunking_strategy=ChunkingStrategyVectorStoreChunkingStrategyAuto(type='auto'), created_at=1756291947, object='vector_store.file', status='completed', usage_bytes=0, vector_store_id='vs_2d3af801-c65f-4085-8977-d2b2a3253fa1', last_error=None)"
      ]
     },
     "execution_count": 7,
     "metadata": {},
     "output_type": "execute_result"
    }
   ],
   "source": [
    "file_ingest_response = client.vector_stores.files.create(\n",
    "    vector_store_id=vector_store_id,\n",
    "    file_id=file_create_response.id,\n",
    ")\n",
    "file_ingest_response"
   ]
  },
  {
   "cell_type": "markdown",
   "id": "16cd5eb7",
   "metadata": {},
   "source": [
    "### Prompt 2: What is the Calabaceira Shop address? (Agent should answer because has knowledge base using RAG capabilities)"
   ]
  },
  {
   "cell_type": "code",
   "execution_count": 8,
   "id": "b34d6f67",
   "metadata": {},
   "outputs": [
    {
     "name": "stderr",
     "output_type": "stream",
     "text": [
      "INFO:httpx:HTTP Request: POST http://localhost:8321/v1/openai/v1/responses \"HTTP/1.1 200 OK\"\n"
     ]
    },
    {
     "name": "stdout",
     "output_type": "stream",
     "text": [
      "ID: resp-62b6095a-2c73-4145-82e0-e9c203337fdf\n",
      "Status: completed\n",
      "Model: vllm/llama-4-scout-17b-16e-w4a16\n",
      "Created at: 1756291967\n",
      "Output items: 2\n",
      "\n",
      "--- Output Item 1 ---\n",
      "Output type: file_search_call\n",
      "  Tool Call ID: chatcmpl-tool-d4faeeacaa5c489eb8bfb0d50ae4aa8e\n",
      "  Tool Status: completed\n",
      "  Queries: Calabaceira Shop address\n",
      "  Results: [OutputOpenAIResponseOutputMessageFileSearchToolCallResult(attributes={}, file_id='', filename='', score=1.2511613942368716, text=\"CalabaceiraShop: History and Goals\\n\\nHistory:\\nCalabaceiraShop was founded in 1998 in Dublin, Ireland, with a mission to bring cutting-edge \\nelectronics closer to everyday consumers. Starting as a small retail shop specializing in \\nhousehold electronics, CalabaceiraShop quickly gained a reputation for quality products and \\nexceptional customer service. Over the years, it expanded into multiple branches across \\nIreland and launched an online store in 2008, allowing international customers to access \\nits wide range of products. Today, CalabaceiraShop is a trusted brand recognized for \\ninnovation, affordability, and reliability in the electronics retail industry.\\n\\nGoals:\\nCalabaceiraShop's goals are centered on customer satisfaction and innovation. Our key objectives include:\\n- Expanding our product portfolio to include the latest consumer electronics and smart devices.\\n- Ensuring sustainable practices in packaging, delivery, and product recycling.\\n- Providing top-notch after-sales services and technical support.\\n- Expanding our global online presence while maintaining a strong local footprint in Ireland.\\n- Developing AI-powered shopping assistance to enhance customer experience.\\n\\nContact Information:\\nCalabaceiraShop Headquarters\\n123 Innovation Street\\nDublin, Ireland\\nPhone: +353 1 234 5678\\nEmail: support@calabaceirashop.ie\\nWebsite: www.calabaceirashop.ie\\n\\nKey Facts:\\n- Founded: 1998\\n- Headquarters: Dublin, Ireland\\n- Employees: 500+\\n- Stores: 15 physical stores across Ireland\\n- Online Customers: Over 2 million worldwide\\n\")]\n",
      "\n",
      "--- Output Item 2 ---\n",
      "Output type: message\n",
      "Response content: The Calabaceira Shop address is:\n",
      "\n",
      "123 Innovation Street\n",
      "Dublin, Ireland\n",
      "\n",
      "You can also contact them at:\n",
      "\n",
      "Phone: +353 1 234 5678\n",
      "Email: support@calabaceirashop.ie\n",
      "Website: www.calabaceirashop.ie\n"
     ]
    }
   ],
   "source": [
    "prompt_2 = \"What is the Calabaceira Shop address?\"\n",
    "\n",
    "response_2 = client.responses.create(\n",
    "    model=LLAMA_STACK_MODEL_ID,\n",
    "    tools=[\n",
    "        {\n",
    "            \"type\": \"file_search\",\n",
    "            \"vector_store_ids\": [vector_store_id],\n",
    "        }\n",
    "    ],\n",
    "    input=prompt_2,\n",
    "    instructions=\"You are a helpful customer service representative for Calabaceira Shop. Always be polite, professional, and provide accurate information about the shop. If you don't know something, admit it honestly.\"\n",
    ")\n",
    "\n",
    "print_rag_response(response_2)\n"
   ]
  },
  {
   "cell_type": "markdown",
   "id": "bf14222e",
   "metadata": {},
   "source": [
    "### Prompt 3: Can you list the products available? (Agent shouldn't answer because MCP isn't enabled)"
   ]
  },
  {
   "cell_type": "code",
   "execution_count": null,
   "id": "7be8d7dd",
   "metadata": {},
   "outputs": [],
   "source": [
    "prompt_3 = \"Can you list the products available?\"\n",
    "\n",
    "response_3 = client.responses.create(\n",
    "    model=LLAMA_STACK_MODEL_ID,\n",
    "    tools=[\n",
    "        {\n",
    "            \"type\": \"file_search\",\n",
    "            \"vector_store_ids\": [vector_store_id],\n",
    "        }\n",
    "    ],\n",
    "    input=prompt_3,\n",
    "    instructions=\"You are a helpful customer service representative for Calabaceira Shop. Always be polite, professional, and provide accurate information about the shop. If you don't know something, admit it honestly.\"\n",
    ")\n",
    "\n",
    "\n",
    "print_rag_response(response_3)"
   ]
  },
  {
   "cell_type": "markdown",
   "id": "ca00aec6",
   "metadata": {},
   "source": [
    "## MCP + RAG"
   ]
  },
  {
   "cell_type": "code",
   "execution_count": null,
   "id": "42715ec1",
   "metadata": {},
   "outputs": [],
   "source": [
    "prompt_4 = \"List all the available products in the Calabaceira Shop\"\n",
    "\n",
    "response_4 = client.responses.create(\n",
    "    model=LLAMA_STACK_MODEL_ID,\n",
    "    input=prompt_4,\n",
    "    instructions=f\"\"\"You are a consultant for Calabaceira Shop. \n",
    "    \n",
    "    When showing products:\n",
    "    - Present them in an organized, easy-to-read format\n",
    "    - Group similar items together\n",
    "    - Always mention prices clearly\n",
    "    - Use only the products provided by the MCP\n",
    "    \"\"\",\n",
    "    tools=[\n",
    "         {\n",
    "            \"type\": \"file_search\",\n",
    "            \"vector_store_ids\": [vector_store_id],\n",
    "        },\n",
    "        {\n",
    "            \"type\": \"mcp\",\n",
    "            \"server_url\": MCP_URL,\n",
    "            \"server_label\": \"Calabaceira Sales MCP\",\n",
    "        }\n",
    "    ],\n",
    "    \n",
    ")\n",
    "\n",
    "\n",
    "print_response(response_4)"
   ]
  },
  {
   "cell_type": "code",
   "execution_count": null,
   "id": "49b260fa",
   "metadata": {},
   "outputs": [],
   "source": [
    "prompt_5 = \"Hey, I want to create an account. My first name is Ian, last name is Miller, address is 123 Main Street, city is San Francisco, country is USA, phone number is +1-666-0123, and my email is iamiller@gmail.com\"\n",
    "\n",
    "response_5 = client.responses.create(\n",
    "    model=LLAMA_STACK_MODEL_ID,\n",
    "    input=prompt_5,\n",
    "    instructions=f\"\"\"You are a consultant for Calabaceira Shop. \n",
    "    \n",
    "    When showing products:\n",
    "    - Ensure that email and phone number are unique and provided by the user\n",
    "    - If user is already registered, respond that they are already registered\n",
    "    \"\"\",\n",
    "    tools=[\n",
    "        {\n",
    "            \"type\": \"mcp\",\n",
    "            \"server_url\": MCP_URL,\n",
    "            \"server_label\": \"Calabaceira Sales MCP\",\n",
    "        }\n",
    "    ],\n",
    ")\n",
    "\n",
    "print_response(response_5)"
   ]
  },
  {
   "cell_type": "code",
   "execution_count": null,
   "id": "2ee04608",
   "metadata": {},
   "outputs": [],
   "source": [
    "prompt_6 = \"Place an order for a MacBook Pro, my email is iamiller@gmail.com\"\n",
    "\n",
    "response_6 = client.responses.create(\n",
    "    model=LLAMA_STACK_MODEL_ID,\n",
    "    input=prompt_6,\n",
    "    instructions=f\"You are a consultant for Calabaceira Shop. Don't register new user. You must place an order only for provided user.\",\n",
    "    tools=[\n",
    "        {\n",
    "            \"type\": \"mcp\",\n",
    "            \"server_url\": MCP_URL,\n",
    "            \"server_label\": \"Calabaceira Sales MCP\",\n",
    "        }\n",
    "    ],\n",
    ")\n",
    "\n",
    "\n",
    "print_response(response_6)"
   ]
  }
 ],
 "metadata": {
  "kernelspec": {
   "display_name": ".venv",
   "language": "python",
   "name": "python3"
  },
  "language_info": {
   "codemirror_mode": {
    "name": "ipython",
    "version": 3
   },
   "file_extension": ".py",
   "mimetype": "text/x-python",
   "name": "python",
   "nbconvert_exporter": "python",
   "pygments_lexer": "ipython3",
   "version": "3.12.11"
  }
 },
 "nbformat": 4,
 "nbformat_minor": 5
}
